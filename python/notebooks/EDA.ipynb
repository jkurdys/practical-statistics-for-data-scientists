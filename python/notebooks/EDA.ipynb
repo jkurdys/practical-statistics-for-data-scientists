{
 "cells": [
  {
   "cell_type": "code",
   "execution_count": 1,
   "id": "0834f0ba",
   "metadata": {},
   "outputs": [],
   "source": [
    "%matplotlib inline\n",
    "\n",
    "import pandas as pd\n",
    "import numpy as np\n",
    "\n",
    "from scipy.stats import trim_mean\n",
    "from statsmodels import robust\n",
    "\n",
    "import seaborn as sns\n",
    "import matplotlib.pyplot as plt"
   ]
  },
  {
   "cell_type": "code",
   "execution_count": 2,
   "id": "a014e50b",
   "metadata": {},
   "outputs": [],
   "source": [
    "state = pd.read_csv('../../data/state.csv')"
   ]
  },
  {
   "cell_type": "code",
   "execution_count": 3,
   "id": "6d3190ea",
   "metadata": {},
   "outputs": [
    {
     "data": {
      "text/html": [
       "<div>\n",
       "<style scoped>\n",
       "    .dataframe tbody tr th:only-of-type {\n",
       "        vertical-align: middle;\n",
       "    }\n",
       "\n",
       "    .dataframe tbody tr th {\n",
       "        vertical-align: top;\n",
       "    }\n",
       "\n",
       "    .dataframe thead th {\n",
       "        text-align: right;\n",
       "    }\n",
       "</style>\n",
       "<table border=\"1\" class=\"dataframe\">\n",
       "  <thead>\n",
       "    <tr style=\"text-align: right;\">\n",
       "      <th></th>\n",
       "      <th>State</th>\n",
       "      <th>Population</th>\n",
       "      <th>Murder.Rate</th>\n",
       "      <th>Abbreviation</th>\n",
       "    </tr>\n",
       "  </thead>\n",
       "  <tbody>\n",
       "    <tr>\n",
       "      <th>0</th>\n",
       "      <td>Alabama</td>\n",
       "      <td>4779736</td>\n",
       "      <td>5.7</td>\n",
       "      <td>AL</td>\n",
       "    </tr>\n",
       "    <tr>\n",
       "      <th>1</th>\n",
       "      <td>Alaska</td>\n",
       "      <td>710231</td>\n",
       "      <td>5.6</td>\n",
       "      <td>AK</td>\n",
       "    </tr>\n",
       "    <tr>\n",
       "      <th>2</th>\n",
       "      <td>Arizona</td>\n",
       "      <td>6392017</td>\n",
       "      <td>4.7</td>\n",
       "      <td>AZ</td>\n",
       "    </tr>\n",
       "    <tr>\n",
       "      <th>3</th>\n",
       "      <td>Arkansas</td>\n",
       "      <td>2915918</td>\n",
       "      <td>5.6</td>\n",
       "      <td>AR</td>\n",
       "    </tr>\n",
       "    <tr>\n",
       "      <th>4</th>\n",
       "      <td>California</td>\n",
       "      <td>37253956</td>\n",
       "      <td>4.4</td>\n",
       "      <td>CA</td>\n",
       "    </tr>\n",
       "    <tr>\n",
       "      <th>5</th>\n",
       "      <td>Colorado</td>\n",
       "      <td>5029196</td>\n",
       "      <td>2.8</td>\n",
       "      <td>CO</td>\n",
       "    </tr>\n",
       "    <tr>\n",
       "      <th>6</th>\n",
       "      <td>Connecticut</td>\n",
       "      <td>3574097</td>\n",
       "      <td>2.4</td>\n",
       "      <td>CT</td>\n",
       "    </tr>\n",
       "    <tr>\n",
       "      <th>7</th>\n",
       "      <td>Delaware</td>\n",
       "      <td>897934</td>\n",
       "      <td>5.8</td>\n",
       "      <td>DE</td>\n",
       "    </tr>\n",
       "    <tr>\n",
       "      <th>8</th>\n",
       "      <td>Florida</td>\n",
       "      <td>18801310</td>\n",
       "      <td>5.8</td>\n",
       "      <td>FL</td>\n",
       "    </tr>\n",
       "    <tr>\n",
       "      <th>9</th>\n",
       "      <td>Georgia</td>\n",
       "      <td>9687653</td>\n",
       "      <td>5.7</td>\n",
       "      <td>GA</td>\n",
       "    </tr>\n",
       "    <tr>\n",
       "      <th>10</th>\n",
       "      <td>Hawaii</td>\n",
       "      <td>1360301</td>\n",
       "      <td>1.8</td>\n",
       "      <td>HI</td>\n",
       "    </tr>\n",
       "    <tr>\n",
       "      <th>11</th>\n",
       "      <td>Idaho</td>\n",
       "      <td>1567582</td>\n",
       "      <td>2.0</td>\n",
       "      <td>ID</td>\n",
       "    </tr>\n",
       "    <tr>\n",
       "      <th>12</th>\n",
       "      <td>Illinois</td>\n",
       "      <td>12830632</td>\n",
       "      <td>5.3</td>\n",
       "      <td>IL</td>\n",
       "    </tr>\n",
       "    <tr>\n",
       "      <th>13</th>\n",
       "      <td>Indiana</td>\n",
       "      <td>6483802</td>\n",
       "      <td>5.0</td>\n",
       "      <td>IN</td>\n",
       "    </tr>\n",
       "    <tr>\n",
       "      <th>14</th>\n",
       "      <td>Iowa</td>\n",
       "      <td>3046355</td>\n",
       "      <td>1.9</td>\n",
       "      <td>IA</td>\n",
       "    </tr>\n",
       "    <tr>\n",
       "      <th>15</th>\n",
       "      <td>Kansas</td>\n",
       "      <td>2853118</td>\n",
       "      <td>3.1</td>\n",
       "      <td>KS</td>\n",
       "    </tr>\n",
       "    <tr>\n",
       "      <th>16</th>\n",
       "      <td>Kentucky</td>\n",
       "      <td>4339367</td>\n",
       "      <td>3.6</td>\n",
       "      <td>KY</td>\n",
       "    </tr>\n",
       "    <tr>\n",
       "      <th>17</th>\n",
       "      <td>Louisiana</td>\n",
       "      <td>4533372</td>\n",
       "      <td>10.3</td>\n",
       "      <td>LA</td>\n",
       "    </tr>\n",
       "    <tr>\n",
       "      <th>18</th>\n",
       "      <td>Maine</td>\n",
       "      <td>1328361</td>\n",
       "      <td>1.6</td>\n",
       "      <td>ME</td>\n",
       "    </tr>\n",
       "    <tr>\n",
       "      <th>19</th>\n",
       "      <td>Maryland</td>\n",
       "      <td>5773552</td>\n",
       "      <td>6.1</td>\n",
       "      <td>MD</td>\n",
       "    </tr>\n",
       "    <tr>\n",
       "      <th>20</th>\n",
       "      <td>Massachusetts</td>\n",
       "      <td>6547629</td>\n",
       "      <td>2.0</td>\n",
       "      <td>MA</td>\n",
       "    </tr>\n",
       "    <tr>\n",
       "      <th>21</th>\n",
       "      <td>Michigan</td>\n",
       "      <td>9883640</td>\n",
       "      <td>5.4</td>\n",
       "      <td>MI</td>\n",
       "    </tr>\n",
       "    <tr>\n",
       "      <th>22</th>\n",
       "      <td>Minnesota</td>\n",
       "      <td>5303925</td>\n",
       "      <td>1.6</td>\n",
       "      <td>MN</td>\n",
       "    </tr>\n",
       "    <tr>\n",
       "      <th>23</th>\n",
       "      <td>Mississippi</td>\n",
       "      <td>2967297</td>\n",
       "      <td>8.6</td>\n",
       "      <td>MS</td>\n",
       "    </tr>\n",
       "    <tr>\n",
       "      <th>24</th>\n",
       "      <td>Missouri</td>\n",
       "      <td>5988927</td>\n",
       "      <td>6.6</td>\n",
       "      <td>MO</td>\n",
       "    </tr>\n",
       "    <tr>\n",
       "      <th>25</th>\n",
       "      <td>Montana</td>\n",
       "      <td>989415</td>\n",
       "      <td>3.6</td>\n",
       "      <td>MT</td>\n",
       "    </tr>\n",
       "    <tr>\n",
       "      <th>26</th>\n",
       "      <td>Nebraska</td>\n",
       "      <td>1826341</td>\n",
       "      <td>2.9</td>\n",
       "      <td>NE</td>\n",
       "    </tr>\n",
       "    <tr>\n",
       "      <th>27</th>\n",
       "      <td>Nevada</td>\n",
       "      <td>2700551</td>\n",
       "      <td>6.0</td>\n",
       "      <td>NV</td>\n",
       "    </tr>\n",
       "    <tr>\n",
       "      <th>28</th>\n",
       "      <td>New Hampshire</td>\n",
       "      <td>1316470</td>\n",
       "      <td>0.9</td>\n",
       "      <td>NH</td>\n",
       "    </tr>\n",
       "    <tr>\n",
       "      <th>29</th>\n",
       "      <td>New Jersey</td>\n",
       "      <td>8791894</td>\n",
       "      <td>3.9</td>\n",
       "      <td>NJ</td>\n",
       "    </tr>\n",
       "    <tr>\n",
       "      <th>30</th>\n",
       "      <td>New Mexico</td>\n",
       "      <td>2059179</td>\n",
       "      <td>4.8</td>\n",
       "      <td>NM</td>\n",
       "    </tr>\n",
       "    <tr>\n",
       "      <th>31</th>\n",
       "      <td>New York</td>\n",
       "      <td>19378102</td>\n",
       "      <td>3.1</td>\n",
       "      <td>NY</td>\n",
       "    </tr>\n",
       "    <tr>\n",
       "      <th>32</th>\n",
       "      <td>North Carolina</td>\n",
       "      <td>9535483</td>\n",
       "      <td>5.1</td>\n",
       "      <td>NC</td>\n",
       "    </tr>\n",
       "    <tr>\n",
       "      <th>33</th>\n",
       "      <td>North Dakota</td>\n",
       "      <td>672591</td>\n",
       "      <td>3.0</td>\n",
       "      <td>ND</td>\n",
       "    </tr>\n",
       "    <tr>\n",
       "      <th>34</th>\n",
       "      <td>Ohio</td>\n",
       "      <td>11536504</td>\n",
       "      <td>4.0</td>\n",
       "      <td>OH</td>\n",
       "    </tr>\n",
       "    <tr>\n",
       "      <th>35</th>\n",
       "      <td>Oklahoma</td>\n",
       "      <td>3751351</td>\n",
       "      <td>4.5</td>\n",
       "      <td>OK</td>\n",
       "    </tr>\n",
       "    <tr>\n",
       "      <th>36</th>\n",
       "      <td>Oregon</td>\n",
       "      <td>3831074</td>\n",
       "      <td>2.0</td>\n",
       "      <td>OR</td>\n",
       "    </tr>\n",
       "    <tr>\n",
       "      <th>37</th>\n",
       "      <td>Pennsylvania</td>\n",
       "      <td>12702379</td>\n",
       "      <td>4.8</td>\n",
       "      <td>PA</td>\n",
       "    </tr>\n",
       "    <tr>\n",
       "      <th>38</th>\n",
       "      <td>Rhode Island</td>\n",
       "      <td>1052567</td>\n",
       "      <td>2.4</td>\n",
       "      <td>RI</td>\n",
       "    </tr>\n",
       "    <tr>\n",
       "      <th>39</th>\n",
       "      <td>South Carolina</td>\n",
       "      <td>4625364</td>\n",
       "      <td>6.4</td>\n",
       "      <td>SC</td>\n",
       "    </tr>\n",
       "    <tr>\n",
       "      <th>40</th>\n",
       "      <td>South Dakota</td>\n",
       "      <td>814180</td>\n",
       "      <td>2.3</td>\n",
       "      <td>SD</td>\n",
       "    </tr>\n",
       "    <tr>\n",
       "      <th>41</th>\n",
       "      <td>Tennessee</td>\n",
       "      <td>6346105</td>\n",
       "      <td>5.7</td>\n",
       "      <td>TN</td>\n",
       "    </tr>\n",
       "    <tr>\n",
       "      <th>42</th>\n",
       "      <td>Texas</td>\n",
       "      <td>25145561</td>\n",
       "      <td>4.4</td>\n",
       "      <td>TX</td>\n",
       "    </tr>\n",
       "    <tr>\n",
       "      <th>43</th>\n",
       "      <td>Utah</td>\n",
       "      <td>2763885</td>\n",
       "      <td>2.3</td>\n",
       "      <td>UT</td>\n",
       "    </tr>\n",
       "    <tr>\n",
       "      <th>44</th>\n",
       "      <td>Vermont</td>\n",
       "      <td>625741</td>\n",
       "      <td>1.6</td>\n",
       "      <td>VT</td>\n",
       "    </tr>\n",
       "    <tr>\n",
       "      <th>45</th>\n",
       "      <td>Virginia</td>\n",
       "      <td>8001024</td>\n",
       "      <td>4.1</td>\n",
       "      <td>VA</td>\n",
       "    </tr>\n",
       "    <tr>\n",
       "      <th>46</th>\n",
       "      <td>Washington</td>\n",
       "      <td>6724540</td>\n",
       "      <td>2.5</td>\n",
       "      <td>WA</td>\n",
       "    </tr>\n",
       "    <tr>\n",
       "      <th>47</th>\n",
       "      <td>West Virginia</td>\n",
       "      <td>1852994</td>\n",
       "      <td>4.0</td>\n",
       "      <td>WV</td>\n",
       "    </tr>\n",
       "    <tr>\n",
       "      <th>48</th>\n",
       "      <td>Wisconsin</td>\n",
       "      <td>5686986</td>\n",
       "      <td>2.9</td>\n",
       "      <td>WI</td>\n",
       "    </tr>\n",
       "    <tr>\n",
       "      <th>49</th>\n",
       "      <td>Wyoming</td>\n",
       "      <td>563626</td>\n",
       "      <td>2.7</td>\n",
       "      <td>WY</td>\n",
       "    </tr>\n",
       "  </tbody>\n",
       "</table>\n",
       "</div>"
      ],
      "text/plain": [
       "             State  Population  Murder.Rate Abbreviation\n",
       "0          Alabama     4779736          5.7           AL\n",
       "1           Alaska      710231          5.6           AK\n",
       "2          Arizona     6392017          4.7           AZ\n",
       "3         Arkansas     2915918          5.6           AR\n",
       "4       California    37253956          4.4           CA\n",
       "5         Colorado     5029196          2.8           CO\n",
       "6      Connecticut     3574097          2.4           CT\n",
       "7         Delaware      897934          5.8           DE\n",
       "8          Florida    18801310          5.8           FL\n",
       "9          Georgia     9687653          5.7           GA\n",
       "10          Hawaii     1360301          1.8           HI\n",
       "11           Idaho     1567582          2.0           ID\n",
       "12        Illinois    12830632          5.3           IL\n",
       "13         Indiana     6483802          5.0           IN\n",
       "14            Iowa     3046355          1.9           IA\n",
       "15          Kansas     2853118          3.1           KS\n",
       "16        Kentucky     4339367          3.6           KY\n",
       "17       Louisiana     4533372         10.3           LA\n",
       "18           Maine     1328361          1.6           ME\n",
       "19        Maryland     5773552          6.1           MD\n",
       "20   Massachusetts     6547629          2.0           MA\n",
       "21        Michigan     9883640          5.4           MI\n",
       "22       Minnesota     5303925          1.6           MN\n",
       "23     Mississippi     2967297          8.6           MS\n",
       "24        Missouri     5988927          6.6           MO\n",
       "25         Montana      989415          3.6           MT\n",
       "26        Nebraska     1826341          2.9           NE\n",
       "27          Nevada     2700551          6.0           NV\n",
       "28   New Hampshire     1316470          0.9           NH\n",
       "29      New Jersey     8791894          3.9           NJ\n",
       "30      New Mexico     2059179          4.8           NM\n",
       "31        New York    19378102          3.1           NY\n",
       "32  North Carolina     9535483          5.1           NC\n",
       "33    North Dakota      672591          3.0           ND\n",
       "34            Ohio    11536504          4.0           OH\n",
       "35        Oklahoma     3751351          4.5           OK\n",
       "36          Oregon     3831074          2.0           OR\n",
       "37    Pennsylvania    12702379          4.8           PA\n",
       "38    Rhode Island     1052567          2.4           RI\n",
       "39  South Carolina     4625364          6.4           SC\n",
       "40    South Dakota      814180          2.3           SD\n",
       "41       Tennessee     6346105          5.7           TN\n",
       "42           Texas    25145561          4.4           TX\n",
       "43            Utah     2763885          2.3           UT\n",
       "44         Vermont      625741          1.6           VT\n",
       "45        Virginia     8001024          4.1           VA\n",
       "46      Washington     6724540          2.5           WA\n",
       "47   West Virginia     1852994          4.0           WV\n",
       "48       Wisconsin     5686986          2.9           WI\n",
       "49         Wyoming      563626          2.7           WY"
      ]
     },
     "execution_count": 3,
     "metadata": {},
     "output_type": "execute_result"
    }
   ],
   "source": [
    "state"
   ]
  },
  {
   "cell_type": "code",
   "execution_count": 4,
   "id": "b4a9c803",
   "metadata": {},
   "outputs": [
    {
     "data": {
      "text/plain": [
       "6162876.3"
      ]
     },
     "execution_count": 4,
     "metadata": {},
     "output_type": "execute_result"
    }
   ],
   "source": [
    "state['Population'].mean()"
   ]
  },
  {
   "cell_type": "code",
   "execution_count": 5,
   "id": "355272be",
   "metadata": {},
   "outputs": [
    {
     "data": {
      "text/plain": [
       "4783697.125"
      ]
     },
     "execution_count": 5,
     "metadata": {},
     "output_type": "execute_result"
    }
   ],
   "source": [
    "trim_mean(state['Population'], 0.1)"
   ]
  },
  {
   "cell_type": "code",
   "execution_count": 6,
   "id": "cda50ad6",
   "metadata": {},
   "outputs": [
    {
     "data": {
      "text/plain": [
       "4436369.5"
      ]
     },
     "execution_count": 6,
     "metadata": {},
     "output_type": "execute_result"
    }
   ],
   "source": [
    "state['Population'].median()"
   ]
  },
  {
   "cell_type": "code",
   "execution_count": 8,
   "id": "d4c8c412",
   "metadata": {},
   "outputs": [
    {
     "data": {
      "text/plain": [
       "4.445833981123393"
      ]
     },
     "execution_count": 8,
     "metadata": {},
     "output_type": "execute_result"
    }
   ],
   "source": [
    "np.average(state['Murder.Rate'], weights= state['Population'])"
   ]
  },
  {
   "cell_type": "code",
   "execution_count": 7,
   "id": "3e403c73",
   "metadata": {},
   "outputs": [],
   "source": [
    "import wquantiles"
   ]
  },
  {
   "cell_type": "code",
   "execution_count": 9,
   "id": "636c5e27",
   "metadata": {},
   "outputs": [
    {
     "data": {
      "text/plain": [
       "4.4"
      ]
     },
     "execution_count": 9,
     "metadata": {},
     "output_type": "execute_result"
    }
   ],
   "source": [
    "wquantiles.median(state['Murder.Rate'], weights= state['Population'])"
   ]
  },
  {
   "cell_type": "code",
   "execution_count": 11,
   "id": "e87af11c",
   "metadata": {},
   "outputs": [
    {
     "data": {
      "text/plain": [
       "6848235.347401142"
      ]
     },
     "execution_count": 11,
     "metadata": {},
     "output_type": "execute_result"
    }
   ],
   "source": [
    "state['Population'].std()"
   ]
  },
  {
   "cell_type": "code",
   "execution_count": 12,
   "id": "0296282a",
   "metadata": {},
   "outputs": [
    {
     "data": {
      "text/plain": [
       "4847308.0"
      ]
     },
     "execution_count": 12,
     "metadata": {},
     "output_type": "execute_result"
    }
   ],
   "source": [
    "state['Population'].quantile(0.75) - state['Population'].quantile(0.25)"
   ]
  },
  {
   "cell_type": "code",
   "execution_count": 13,
   "id": "3bb9fc6e",
   "metadata": {},
   "outputs": [
    {
     "data": {
      "text/plain": [
       "3849876.1459979336"
      ]
     },
     "execution_count": 13,
     "metadata": {},
     "output_type": "execute_result"
    }
   ],
   "source": [
    "robust.scale.mad(state['Population'])"
   ]
  },
  {
   "cell_type": "code",
   "execution_count": 14,
   "id": "16b74954",
   "metadata": {},
   "outputs": [
    {
     "data": {
      "text/plain": [
       "0.05    1.600\n",
       "0.25    2.425\n",
       "0.50    4.000\n",
       "0.75    5.550\n",
       "0.95    6.510\n",
       "Name: Murder.Rate, dtype: float64"
      ]
     },
     "execution_count": 14,
     "metadata": {},
     "output_type": "execute_result"
    }
   ],
   "source": [
    "state['Murder.Rate'].quantile([0.05, 0.25, 0.5, 0.75, 0.95])"
   ]
  },
  {
   "cell_type": "code",
   "execution_count": 17,
   "id": "f261afc9",
   "metadata": {},
   "outputs": [
    {
     "data": {
      "text/plain": [
       "Text(0, 0.5, 'Population (millions)')"
      ]
     },
     "execution_count": 17,
     "metadata": {},
     "output_type": "execute_result"
    },
    {
     "data": {
      "image/png": "[encoded data removed]",
      "text/plain": [
       "<Figure size 432x288 with 1 Axes>"
      ]
     },
     "metadata": {
      "needs_background": "light"
     },
     "output_type": "display_data"
    }
   ],
   "source": [
    "ax = (state['Population'] / 1000000).plot.box()\n",
    "ax.set_ylabel('Population (millions)')"
   ]
  },
  {
   "cell_type": "code",
   "execution_count": 18,
   "id": "aa0589f2",
   "metadata": {},
   "outputs": [
    {
     "data": {
      "text/plain": [
       "(526935.67, 4232659.0]      24\n",
       "(4232659.0, 7901692.0]      14\n",
       "(7901692.0, 11570725.0]      6\n",
       "(11570725.0, 15239758.0]     2\n",
       "(15239758.0, 18908791.0]     1\n",
       "(18908791.0, 22577824.0]     1\n",
       "(22577824.0, 26246857.0]     1\n",
       "(33584923.0, 37253956.0]     1\n",
       "(26246857.0, 29915890.0]     0\n",
       "(29915890.0, 33584923.0]     0\n",
       "Name: Population, dtype: int64"
      ]
     },
     "execution_count": 18,
     "metadata": {},
     "output_type": "execute_result"
    }
   ],
   "source": [
    "binnedPopulation = pd.cut(state['Population'], 10)\n",
    "binnedPopulation.value_counts()"
   ]
  },
  {
   "cell_type": "code",
   "execution_count": 19,
   "id": "5068f9dd",
   "metadata": {},
   "outputs": [
    {
     "data": {
      "text/plain": [
       "Text(0.5, 0, 'Population (millions)')"
      ]
     },
     "execution_count": 19,
     "metadata": {},
     "output_type": "execute_result"
    },
    {
     "data": {
      "image/png": "[encoded data removed]",
      "text/plain": [
       "<Figure size 288x288 with 1 Axes>"
      ]
     },
     "metadata": {
      "needs_background": "light"
     },
     "output_type": "display_data"
    }
   ],
   "source": [
    "ax = (state['Population'] / 1000000).plot.hist(figsize= (4, 4))\n",
    "ax.set_xlabel('Population (millions)')"
   ]
  },
  {
   "cell_type": "code",
   "execution_count": 20,
   "id": "2bcd31d0",
   "metadata": {},
   "outputs": [
    {
     "data": {
      "text/plain": [
       "Text(0.5, 0, 'Murder Rate (per 100,000)')"
      ]
     },
     "execution_count": 20,
     "metadata": {},
     "output_type": "execute_result"
    },
    {
     "data": {
      "image/png": "[encoded data removed]",
      "text/plain": [
       "<Figure size 432x288 with 1 Axes>"
      ]
     },
     "metadata": {
      "needs_background": "light"
     },
     "output_type": "display_data"
    }
   ],
   "source": [
    "ax = state['Murder.Rate'].plot.hist(density= True, xlim= [0, 12], bins = range(1, 12))\n",
    "state['Murder.Rate'].plot.density(ax= ax)\n",
    "ax.set_xlabel('Murder Rate (per 100,000)')"
   ]
  },
  {
   "cell_type": "code",
   "execution_count": 5,
   "id": "098e0ed0",
   "metadata": {},
   "outputs": [],
   "source": [
    "dfw = pd.read_csv('../../data/dfw_airline.csv')"
   ]
  },
  {
   "cell_type": "code",
   "execution_count": 7,
   "id": "0d460a81",
   "metadata": {},
   "outputs": [
    {
     "data": {
      "image/png": "[encoded data removed]",
      "text/plain": [
       "<Figure size 288x288 with 1 Axes>"
      ]
     },
     "metadata": {
      "needs_background": "light"
     },
     "output_type": "display_data"
    }
   ],
   "source": [
    "ax = dfw.transpose().plot.bar(figsize= (4, 4), legend=False)\n",
    "ax.set_xlabel('Cause of delay')\n",
    "ax.set_ylabel('Count')\n",
    "plt.show()"
   ]
  },
  {
   "cell_type": "code",
   "execution_count": 2,
   "id": "ee57016a",
   "metadata": {},
   "outputs": [],
   "source": [
    "sp500_sym = pd.read_csv('../../data/sp500_sectors.csv')\n",
    "sp500_px = pd.read_csv('../../data/sp500_data.csv.gz', index_col=0)"
   ]
  },
  {
   "cell_type": "code",
   "execution_count": 3,
   "id": "fa58a7c7",
   "metadata": {},
   "outputs": [
    {
     "data": {
      "text/html": [
       "<div>\n",
       "<style scoped>\n",
       "    .dataframe tbody tr th:only-of-type {\n",
       "        vertical-align: middle;\n",
       "    }\n",
       "\n",
       "    .dataframe tbody tr th {\n",
       "        vertical-align: top;\n",
       "    }\n",
       "\n",
       "    .dataframe thead th {\n",
       "        text-align: right;\n",
       "    }\n",
       "</style>\n",
       "<table border=\"1\" class=\"dataframe\">\n",
       "  <thead>\n",
       "    <tr style=\"text-align: right;\">\n",
       "      <th></th>\n",
       "      <th>T</th>\n",
       "      <th>CTL</th>\n",
       "      <th>FTR</th>\n",
       "      <th>VZ</th>\n",
       "      <th>LVLT</th>\n",
       "    </tr>\n",
       "  </thead>\n",
       "  <tbody>\n",
       "    <tr>\n",
       "      <th>2012-07-02</th>\n",
       "      <td>0.422496</td>\n",
       "      <td>0.140847</td>\n",
       "      <td>0.070879</td>\n",
       "      <td>0.554180</td>\n",
       "      <td>-0.519998</td>\n",
       "    </tr>\n",
       "    <tr>\n",
       "      <th>2012-07-03</th>\n",
       "      <td>-0.177448</td>\n",
       "      <td>0.066280</td>\n",
       "      <td>0.070879</td>\n",
       "      <td>-0.025976</td>\n",
       "      <td>-0.049999</td>\n",
       "    </tr>\n",
       "    <tr>\n",
       "      <th>2012-07-05</th>\n",
       "      <td>-0.160548</td>\n",
       "      <td>-0.132563</td>\n",
       "      <td>0.055128</td>\n",
       "      <td>-0.051956</td>\n",
       "      <td>-0.180000</td>\n",
       "    </tr>\n",
       "    <tr>\n",
       "      <th>2012-07-06</th>\n",
       "      <td>0.342205</td>\n",
       "      <td>0.132563</td>\n",
       "      <td>0.007875</td>\n",
       "      <td>0.140106</td>\n",
       "      <td>-0.359999</td>\n",
       "    </tr>\n",
       "    <tr>\n",
       "      <th>2012-07-09</th>\n",
       "      <td>0.136883</td>\n",
       "      <td>0.124279</td>\n",
       "      <td>-0.023626</td>\n",
       "      <td>0.253943</td>\n",
       "      <td>0.180000</td>\n",
       "    </tr>\n",
       "    <tr>\n",
       "      <th>...</th>\n",
       "      <td>...</td>\n",
       "      <td>...</td>\n",
       "      <td>...</td>\n",
       "      <td>...</td>\n",
       "      <td>...</td>\n",
       "    </tr>\n",
       "    <tr>\n",
       "      <th>2015-06-25</th>\n",
       "      <td>0.049342</td>\n",
       "      <td>-1.600000</td>\n",
       "      <td>-0.040000</td>\n",
       "      <td>-0.187790</td>\n",
       "      <td>-0.330002</td>\n",
       "    </tr>\n",
       "    <tr>\n",
       "      <th>2015-06-26</th>\n",
       "      <td>-0.256586</td>\n",
       "      <td>0.039999</td>\n",
       "      <td>-0.070000</td>\n",
       "      <td>0.029650</td>\n",
       "      <td>-0.739998</td>\n",
       "    </tr>\n",
       "    <tr>\n",
       "      <th>2015-06-29</th>\n",
       "      <td>-0.098685</td>\n",
       "      <td>-0.559999</td>\n",
       "      <td>-0.060000</td>\n",
       "      <td>-0.504063</td>\n",
       "      <td>-1.360000</td>\n",
       "    </tr>\n",
       "    <tr>\n",
       "      <th>2015-06-30</th>\n",
       "      <td>-0.503298</td>\n",
       "      <td>-0.420000</td>\n",
       "      <td>-0.070000</td>\n",
       "      <td>-0.523829</td>\n",
       "      <td>0.199997</td>\n",
       "    </tr>\n",
       "    <tr>\n",
       "      <th>2015-07-01</th>\n",
       "      <td>-0.019737</td>\n",
       "      <td>0.080000</td>\n",
       "      <td>-0.050000</td>\n",
       "      <td>0.355811</td>\n",
       "      <td>0.139999</td>\n",
       "    </tr>\n",
       "  </tbody>\n",
       "</table>\n",
       "<p>754 rows × 5 columns</p>\n",
       "</div>"
      ],
      "text/plain": [
       "                   T       CTL       FTR        VZ      LVLT\n",
       "2012-07-02  0.422496  0.140847  0.070879  0.554180 -0.519998\n",
       "2012-07-03 -0.177448  0.066280  0.070879 -0.025976 -0.049999\n",
       "2012-07-05 -0.160548 -0.132563  0.055128 -0.051956 -0.180000\n",
       "2012-07-06  0.342205  0.132563  0.007875  0.140106 -0.359999\n",
       "2012-07-09  0.136883  0.124279 -0.023626  0.253943  0.180000\n",
       "...              ...       ...       ...       ...       ...\n",
       "2015-06-25  0.049342 -1.600000 -0.040000 -0.187790 -0.330002\n",
       "2015-06-26 -0.256586  0.039999 -0.070000  0.029650 -0.739998\n",
       "2015-06-29 -0.098685 -0.559999 -0.060000 -0.504063 -1.360000\n",
       "2015-06-30 -0.503298 -0.420000 -0.070000 -0.523829  0.199997\n",
       "2015-07-01 -0.019737  0.080000 -0.050000  0.355811  0.139999\n",
       "\n",
       "[754 rows x 5 columns]"
      ]
     },
     "execution_count": 3,
     "metadata": {},
     "output_type": "execute_result"
    }
   ],
   "source": [
    "telecomSymbols = sp500_sym[sp500_sym['sector'] == 'telecommunications_services']['symbol']\n",
    "\n",
    "telecom = sp500_px.loc[sp500_px.index >= '2012-07-01', telecomSymbols]\n",
    "telecom.corr()\n",
    "telecom"
   ]
  },
  {
   "cell_type": "code",
   "execution_count": 13,
   "id": "cd5adb79",
   "metadata": {},
   "outputs": [
    {
     "data": {
      "text/html": [
       "<div>\n",
       "<style scoped>\n",
       "    .dataframe tbody tr th:only-of-type {\n",
       "        vertical-align: middle;\n",
       "    }\n",
       "\n",
       "    .dataframe tbody tr th {\n",
       "        vertical-align: top;\n",
       "    }\n",
       "\n",
       "    .dataframe thead th {\n",
       "        text-align: right;\n",
       "    }\n",
       "</style>\n",
       "<table border=\"1\" class=\"dataframe\">\n",
       "  <thead>\n",
       "    <tr style=\"text-align: right;\">\n",
       "      <th></th>\n",
       "      <th>XLI</th>\n",
       "      <th>QQQ</th>\n",
       "      <th>SPY</th>\n",
       "      <th>DIA</th>\n",
       "      <th>GLD</th>\n",
       "      <th>VXX</th>\n",
       "      <th>USO</th>\n",
       "      <th>IWM</th>\n",
       "      <th>XLE</th>\n",
       "      <th>XLY</th>\n",
       "      <th>XLU</th>\n",
       "      <th>XLB</th>\n",
       "      <th>XTL</th>\n",
       "      <th>XLV</th>\n",
       "      <th>XLP</th>\n",
       "      <th>XLF</th>\n",
       "      <th>XLK</th>\n",
       "    </tr>\n",
       "  </thead>\n",
       "  <tbody>\n",
       "    <tr>\n",
       "      <th>2012-07-02</th>\n",
       "      <td>-0.376098</td>\n",
       "      <td>0.096313</td>\n",
       "      <td>0.028223</td>\n",
       "      <td>-0.242796</td>\n",
       "      <td>0.419998</td>\n",
       "      <td>-10.40</td>\n",
       "      <td>0.000000</td>\n",
       "      <td>0.534641</td>\n",
       "      <td>0.028186</td>\n",
       "      <td>0.095759</td>\n",
       "      <td>0.098311</td>\n",
       "      <td>-0.093713</td>\n",
       "      <td>0.019076</td>\n",
       "      <td>-0.009529</td>\n",
       "      <td>0.313499</td>\n",
       "      <td>0.018999</td>\n",
       "      <td>0.075668</td>\n",
       "    </tr>\n",
       "    <tr>\n",
       "      <th>2012-07-03</th>\n",
       "      <td>0.376099</td>\n",
       "      <td>0.481576</td>\n",
       "      <td>0.874936</td>\n",
       "      <td>0.728405</td>\n",
       "      <td>0.490006</td>\n",
       "      <td>-3.52</td>\n",
       "      <td>0.250000</td>\n",
       "      <td>0.926067</td>\n",
       "      <td>0.995942</td>\n",
       "      <td>0.000000</td>\n",
       "      <td>-0.044686</td>\n",
       "      <td>0.337373</td>\n",
       "      <td>0.000000</td>\n",
       "      <td>0.000000</td>\n",
       "      <td>0.129087</td>\n",
       "      <td>0.104492</td>\n",
       "      <td>0.236462</td>\n",
       "    </tr>\n",
       "    <tr>\n",
       "      <th>2012-07-05</th>\n",
       "      <td>0.150440</td>\n",
       "      <td>0.096313</td>\n",
       "      <td>-0.103487</td>\n",
       "      <td>0.149420</td>\n",
       "      <td>0.239991</td>\n",
       "      <td>6.56</td>\n",
       "      <td>-0.070000</td>\n",
       "      <td>-0.171848</td>\n",
       "      <td>-0.460387</td>\n",
       "      <td>0.306431</td>\n",
       "      <td>-0.151938</td>\n",
       "      <td>0.103086</td>\n",
       "      <td>0.019072</td>\n",
       "      <td>-0.142955</td>\n",
       "      <td>-0.073766</td>\n",
       "      <td>-0.142490</td>\n",
       "      <td>0.066211</td>\n",
       "    </tr>\n",
       "    <tr>\n",
       "      <th>2012-07-06</th>\n",
       "      <td>-0.141040</td>\n",
       "      <td>-0.491201</td>\n",
       "      <td>0.018819</td>\n",
       "      <td>-0.205449</td>\n",
       "      <td>-0.519989</td>\n",
       "      <td>-8.80</td>\n",
       "      <td>-0.180000</td>\n",
       "      <td>-0.229128</td>\n",
       "      <td>0.206706</td>\n",
       "      <td>0.153214</td>\n",
       "      <td>0.080437</td>\n",
       "      <td>0.018744</td>\n",
       "      <td>-0.429213</td>\n",
       "      <td>-0.095304</td>\n",
       "      <td>0.119865</td>\n",
       "      <td>0.066495</td>\n",
       "      <td>-0.227003</td>\n",
       "    </tr>\n",
       "    <tr>\n",
       "      <th>2012-07-09</th>\n",
       "      <td>0.244465</td>\n",
       "      <td>-0.048160</td>\n",
       "      <td>-0.056445</td>\n",
       "      <td>-0.168094</td>\n",
       "      <td>0.429992</td>\n",
       "      <td>-0.48</td>\n",
       "      <td>0.459999</td>\n",
       "      <td>-0.190939</td>\n",
       "      <td>-0.234892</td>\n",
       "      <td>-0.201098</td>\n",
       "      <td>-0.035751</td>\n",
       "      <td>-0.168687</td>\n",
       "      <td>0.000000</td>\n",
       "      <td>0.352630</td>\n",
       "      <td>-0.064548</td>\n",
       "      <td>0.018999</td>\n",
       "      <td>0.009457</td>\n",
       "    </tr>\n",
       "  </tbody>\n",
       "</table>\n",
       "</div>"
      ],
      "text/plain": [
       "                 XLI       QQQ       SPY       DIA       GLD    VXX       USO  \\\n",
       "2012-07-02 -0.376098  0.096313  0.028223 -0.242796  0.419998 -10.40  0.000000   \n",
       "2012-07-03  0.376099  0.481576  0.874936  0.728405  0.490006  -3.52  0.250000   \n",
       "2012-07-05  0.150440  0.096313 -0.103487  0.149420  0.239991   6.56 -0.070000   \n",
       "2012-07-06 -0.141040 -0.491201  0.018819 -0.205449 -0.519989  -8.80 -0.180000   \n",
       "2012-07-09  0.244465 -0.048160 -0.056445 -0.168094  0.429992  -0.48  0.459999   \n",
       "\n",
       "                 IWM       XLE       XLY       XLU       XLB       XTL  \\\n",
       "2012-07-02  0.534641  0.028186  0.095759  0.098311 -0.093713  0.019076   \n",
       "2012-07-03  0.926067  0.995942  0.000000 -0.044686  0.337373  0.000000   \n",
       "2012-07-05 -0.171848 -0.460387  0.306431 -0.151938  0.103086  0.019072   \n",
       "2012-07-06 -0.229128  0.206706  0.153214  0.080437  0.018744 -0.429213   \n",
       "2012-07-09 -0.190939 -0.234892 -0.201098 -0.035751 -0.168687  0.000000   \n",
       "\n",
       "                 XLV       XLP       XLF       XLK  \n",
       "2012-07-02 -0.009529  0.313499  0.018999  0.075668  \n",
       "2012-07-03  0.000000  0.129087  0.104492  0.236462  \n",
       "2012-07-05 -0.142955 -0.073766 -0.142490  0.066211  \n",
       "2012-07-06 -0.095304  0.119865  0.066495 -0.227003  \n",
       "2012-07-09  0.352630 -0.064548  0.018999  0.009457  "
      ]
     },
     "execution_count": 13,
     "metadata": {},
     "output_type": "execute_result"
    }
   ],
   "source": [
    "etfs = sp500_px.loc[sp500_px.index > '2012-07-01',\n",
    "                    sp500_sym[sp500_sym['sector'] == 'etf']['symbol']]\n",
    "etfs.head()"
   ]
  },
  {
   "cell_type": "code",
   "execution_count": 14,
   "id": "f2c54bad",
   "metadata": {},
   "outputs": [
    {
     "data": {
      "image/png": "[encoded data removed]",
      "text/plain": [
       "<Figure size 360x288 with 2 Axes>"
      ]
     },
     "metadata": {
      "needs_background": "light"
     },
     "output_type": "display_data"
    }
   ],
   "source": [
    "fig, ax = plt.subplots(figsize=(5, 4))\n",
    "ax = sns.heatmap(etfs.corr(), vmin = -1, vmax = 1,\n",
    "                cmap= sns.diverging_palette(20, 200, as_cmap= True),\n",
    "                ax=ax)\n",
    "plt.tight_layout()\n",
    "plt.show()"
   ]
  },
  {
   "cell_type": "code",
   "execution_count": 11,
   "id": "8cfdc349",
   "metadata": {},
   "outputs": [
    {
     "data": {
      "image/png": "[encoded data removed]",
      "text/plain": [
       "<Figure size 576x576 with 1 Axes>"
      ]
     },
     "metadata": {
      "needs_background": "light"
     },
     "output_type": "display_data"
    }
   ],
   "source": [
    "ax = telecom.plot.scatter(x= 'T', y= 'VZ', figsize= (8, 8), marker= '$\\u25EF$')\n",
    "ax.set_xlabel('ATT (T)')\n",
    "ax.set_ylabel('Verizon (VZ)')\n",
    "ax.axhline(0, color= 'grey', lw= 1)\n",
    "ax.axvline(0, color= 'grey', lw=1)\n",
    "plt.show()"
   ]
  },
  {
   "cell_type": "code",
   "execution_count": 2,
   "id": "15ac2035",
   "metadata": {},
   "outputs": [
    {
     "data": {
      "text/plain": [
       "(432693, 3)"
      ]
     },
     "execution_count": 2,
     "metadata": {},
     "output_type": "execute_result"
    }
   ],
   "source": [
    "kc_tax = pd.read_csv('../../data/kc_tax.csv.gz')\n",
    "kc_tax0 = kc_tax.loc[(kc_tax.TaxAssessedValue < 750000) &\n",
    "                    (kc_tax.SqFtTotLiving > 100) &\n",
    "                    (kc_tax.SqFtTotLiving < 3500), :]\n",
    "\n",
    "kc_tax0.shape"
   ]
  },
  {
   "cell_type": "code",
   "execution_count": 3,
   "id": "08de5314",
   "metadata": {},
   "outputs": [
    {
     "data": {
      "image/png": "[encoded data removed]",
      "text/plain": [
       "<Figure size 720x576 with 2 Axes>"
      ]
     },
     "metadata": {
      "needs_background": "light"
     },
     "output_type": "display_data"
    }
   ],
   "source": [
    "ax = kc_tax0.plot.hexbin(x= 'SqFtTotLiving', y= 'TaxAssessedValue',\n",
    "                         gridsize= 30, sharex= False, figsize= (10,8))\n",
    "ax.set_xlabel('Finished Square Feet')\n",
    "ax.set_ylabel('Tax Assessed Value')\n",
    "plt.show()"
   ]
  },
  {
   "cell_type": "code",
   "execution_count": null,
   "id": "dbb0cc02",
   "metadata": {},
   "outputs": [],
   "source": [
    "ax = sns.kdeplot(kc_tax0.SqFtTotLiving, kc_tax0.TaxAssessedValue, ax=ax)\n",
    "ax.set_xlabel('Finished Square Feet')\n",
    "ax.set_ylabel('Tax Assessed Value')\n",
    "plt.show()"
   ]
  },
  {
   "cell_type": "code",
   "execution_count": null,
   "id": "9b396137",
   "metadata": {},
   "outputs": [],
   "source": [
    "fig, ax = plt.subplots(figsize=(4, 4))\n",
    "sns.kdeplot(data=kc_tax0, x='SqFtTotLiving', y='TaxAssessedValue', ax=ax)\n",
    "ax.set_xlabel('Finished Square Feet')\n",
    "ax.set_ylabel('Tax Assessed Value')\n",
    "\n",
    "plt.tight_layout()\n",
    "plt.show()"
   ]
  },
  {
   "cell_type": "code",
   "execution_count": null,
   "id": "82307492",
   "metadata": {},
   "outputs": [],
   "source": []
  }
 ],
 "metadata": {
  "kernelspec": {
   "display_name": "Python 3",
   "language": "python",
   "name": "python3"
  },
  "language_info": {
   "codemirror_mode": {
    "name": "ipython",
    "version": 3
   },
   "file_extension": ".py",
   "mimetype": "text/x-python",
   "name": "python",
   "nbconvert_exporter": "python",
   "pygments_lexer": "ipython3",
   "version": "3.7.7"
  }
 },
 "nbformat": 4,
 "nbformat_minor": 5
}
